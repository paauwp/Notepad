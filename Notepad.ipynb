{
 "cells": [
  {
   "cell_type": "code",
   "execution_count": 1,
   "metadata": {},
   "outputs": [],
   "source": [
    "from tkinter import *\n",
    "from tkinter.messagebox import *\n",
    "\n",
    "# Import Dialog box for opening or saving a file\n",
    "from tkinter.filedialog import *\n",
    "\n",
    "#Import OS for using all Operating System features \n",
    "import os\n",
    "\n",
    "# Create the Notepad Class\n",
    "class Notepad:\n",
    "    root = Tk()\n",
    "    root.wm_iconbitmap(\"notepad.ico\")\n",
    "    root.title(\"Untitled - Notepad\")\n",
    "    root.geometry(\"700x400\")\n",
    "    TextArea = Text(root, font = (\"arial, 15\"))\n",
    "    menubar = Menu(root)\n",
    "    FileMenu = Menu(menubar, tearoff=0)\n",
    "    EditMenu = Menu(menubar, tearoff=0)\n",
    "    HelpMenu = Menu(menubar, tearoff=0)\n",
    "    \n",
    "    Scrollbar = Scrollbar(TextArea)\n",
    "    file = None\n",
    "    \n",
    "    def __init(self):\n",
    "        # Text Area resizable\n",
    "        self.root.grid_rowconfigure(0, weight=1)\n",
    "        self.root.grid_columnconfigure(0, weight=1)\n",
    "        self.TextArea.grid(sticky=N+E+S+W)\n",
    "        \n",
    "        #file menu\n",
    "        self.FileMenu.add_command(label=\"New\")\n",
    "        self.FileMenu.add_command(label=\"Save\")\n",
    "        self.FileMenu.add_command(label=\"Open\")\n",
    "        \n",
    "    "
   ]
  },
  {
   "cell_type": "code",
   "execution_count": null,
   "metadata": {},
   "outputs": [],
   "source": []
  }
 ],
 "metadata": {
  "kernelspec": {
   "display_name": "Python 3",
   "language": "python",
   "name": "python3"
  },
  "language_info": {
   "codemirror_mode": {
    "name": "ipython",
    "version": 3
   },
   "file_extension": ".py",
   "mimetype": "text/x-python",
   "name": "python",
   "nbconvert_exporter": "python",
   "pygments_lexer": "ipython3",
   "version": "3.7.3"
  }
 },
 "nbformat": 4,
 "nbformat_minor": 2
}
